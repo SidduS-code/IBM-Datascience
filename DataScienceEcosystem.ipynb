{
 "cells": [
  {
   "cell_type": "markdown",
   "id": "7cd86a56-4e8c-4d41-8732-cf056c7d37a8",
   "metadata": {},
   "source": [
    "Notebook created as DataScienceEcosystem.ipynb"
   ]
  },
  {
   "cell_type": "markdown",
   "id": "17b160fe-adc4-4c9c-93b5-1c4c3b3a78b6",
   "metadata": {},
   "source": [
    "# Data Science Tools and Ecosystem"
   ]
  },
  {
   "cell_type": "markdown",
   "id": "fbad302d-32c5-4593-8336-9f2d9b391969",
   "metadata": {},
   "source": [
    "In this notebook, Data Science Tools and Ecosystem are summarized."
   ]
  },
  {
   "cell_type": "markdown",
   "id": "9998fa00-91df-4d5e-bae0-802789983c37",
   "metadata": {},
   "source": [
    "Some of the popular languages that Data Scientists use are:\n",
    "1. Python\n",
    "2. R\n",
    "3. Java\n",
    "4. Julia"
   ]
  },
  {
   "cell_type": "markdown",
   "id": "6b16ed0b-7568-49c3-af9f-f57e262a47b6",
   "metadata": {
    "tags": []
   },
   "source": [
    "Some of the commonly used libraries used by Data Scientists include:\n",
    "1. Pandas\n",
    "2. Numpy\n",
    "3. Scikit-learn\n",
    "4. Matplotlib"
   ]
  },
  {
   "cell_type": "markdown",
   "id": "44f6fe56-82da-408d-8af4-a9a2d753b393",
   "metadata": {},
   "source": [
    "| Data Science Tools |\n",
    "| --- |\n",
    "| VS Code |\n",
    "| R Studio |\n",
    "| Apache Spark |\n",
    "| Apache Hadoop |"
   ]
  },
  {
   "cell_type": "markdown",
   "id": "d2a14e5c-5d53-4f30-952a-a13278b66a71",
   "metadata": {},
   "source": [
    "### Below are a few examples of evaluating arithmetic expressions in Python\n",
    "\n",
    "1. Addition +\n",
    "2. Subtraction -\n",
    "3. Multiplication *\n",
    "4. Division /"
   ]
  },
  {
   "cell_type": "code",
   "execution_count": 3,
   "id": "c69c92b8-e2e2-4c51-8e9c-4a00aff74938",
   "metadata": {
    "tags": []
   },
   "outputs": [
    {
     "data": {
      "text/plain": [
       "17"
      ]
     },
     "execution_count": 3,
     "metadata": {},
     "output_type": "execute_result"
    }
   ],
   "source": [
    "#This a simple arithmetic expression to mutiply then add integers\n",
    "(3*4)+5\n"
   ]
  },
  {
   "cell_type": "code",
   "execution_count": 4,
   "id": "76c61c5b-ee05-4e1b-a401-fb2a0b82e826",
   "metadata": {
    "tags": []
   },
   "outputs": [
    {
     "data": {
      "text/plain": [
       "3.3333333333333335"
      ]
     },
     "execution_count": 4,
     "metadata": {},
     "output_type": "execute_result"
    }
   ],
   "source": [
    "#This will convert 200 minutes to hours by diving by 60\n",
    "200/60"
   ]
  },
  {
   "cell_type": "markdown",
   "id": "b955a08b-fbfe-433a-8574-503297a2ba99",
   "metadata": {},
   "source": [
    "# __Objectives__\n",
    "* List of popular languages in Data science\n",
    "* Most commonly used libraries in Data science\n",
    "* Open Source Data science tools\n",
    "* Introduction to basic arithmetic operations in Python\n",
    "* Exercise to use Markdown with functions like ordered lists, unordered list, Bold, etc."
   ]
  },
  {
   "cell_type": "markdown",
   "id": "2c1b945b-dc6d-4c63-8c0b-ee86b19f59de",
   "metadata": {},
   "source": [
    "## Author\n",
    "Siddarth S"
   ]
  },
  {
   "cell_type": "code",
   "execution_count": null,
   "id": "3f3a3728-c246-4cdb-80f5-2c81f75a3cea",
   "metadata": {},
   "outputs": [],
   "source": []
  }
 ],
 "metadata": {
  "kernelspec": {
   "display_name": "Python",
   "language": "python",
   "name": "conda-env-python-py"
  },
  "language_info": {
   "codemirror_mode": {
    "name": "ipython",
    "version": 3
   },
   "file_extension": ".py",
   "mimetype": "text/x-python",
   "name": "python",
   "nbconvert_exporter": "python",
   "pygments_lexer": "ipython3",
   "version": "3.7.12"
  }
 },
 "nbformat": 4,
 "nbformat_minor": 5
}
